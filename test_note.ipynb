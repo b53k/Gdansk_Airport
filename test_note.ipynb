{
 "cells": [
  {
   "cell_type": "markdown",
   "metadata": {},
   "source": [
    "## To DO:\n",
    "\n",
    "Two ways --\n",
    "* Get Data - Image Frames and cooresponding Time-stamps\n",
    "* Annotate for Segmentation\n",
    "* Convert Binary Segmentation to YOLO format using mask_to_YOLO.py\n",
    "* Use ultralytics YOLOv8 to fine-tune the model on our custom data-set and track objects\n",
    "* Get corresponding x,y coordinates with time-stamps\n",
    "\n",
    "or\n",
    "* Do all of the above manually using CVAT, use polygon tracker this time. \n",
    "* Export in COCO format\n",
    "* and so on"
   ]
  },
  {
   "cell_type": "code",
   "execution_count": 1,
   "metadata": {},
   "outputs": [],
   "source": [
    "import os\n",
    "import cv2\n",
    "import numpy as np\n",
    "import matplotlib.pyplot as plt\n",
    "\n",
    "def parse_labelmap(labelmap_path):\n",
    "    \"\"\"\n",
    "    Parses the labelmap.txt file to a dictionary\n",
    "    \"\"\"\n",
    "    label_dict = {}\n",
    "    with open(labelmap_path, 'r') as file:\n",
    "        for line in file.readlines():\n",
    "            if not line.startswith('#'):\n",
    "                parts = line.strip().split(':')\n",
    "                label_name = parts[0]\n",
    "                color_str = parts[1]\n",
    "                label_dict[color_str] = label_name\n",
    "    return label_dict"
   ]
  },
  {
   "cell_type": "code",
   "execution_count": 2,
   "metadata": {},
   "outputs": [
    {
     "data": {
      "text/plain": [
       "{'61,245,61': 'Aerobridge',\n",
       " '61,61,245': 'Aircraft',\n",
       " '255,204,51': 'Airport_Tractor',\n",
       " '140,120,240': 'Baggage_Trolley',\n",
       " '226,177,62': 'Catering_Truck',\n",
       " '109,218,153': 'Conveyor_Belt',\n",
       " '51,221,255': 'Fire_Truck',\n",
       " '50,183,250': 'Fuel_Truck',\n",
       " '99,228,223': 'GPU',\n",
       " '255,255,0': 'Ground_Crew',\n",
       " '102,255,102': 'Passengers',\n",
       " '241,45,6': 'Pushback_Tug',\n",
       " '250,0,0': 'Safety_Cone',\n",
       " '0,0,0': 'background'}"
      ]
     },
     "execution_count": 2,
     "metadata": {},
     "output_type": "execute_result"
    }
   ],
   "source": [
    "parse_labelmap('tmp/labelmap.txt')"
   ]
  },
  {
   "cell_type": "code",
   "execution_count": 23,
   "metadata": {},
   "outputs": [],
   "source": [
    "def convert_mask_to_YOLO(args):\n",
    "    '''\n",
    "    Converts Segmentation masks 1.1 obtained from CVAT to YOLO v8 format\n",
    "    \n",
    "    Args:\n",
    "        input_dir: str, location of segmented masks  '.../masks'\n",
    "        output_dir: str, output location             '.../labels'\n",
    "    '''\n",
    "    input_dir = args.input_dir\n",
    "    output_dir = args.output_dir\n",
    "\n",
    "    for j in os.listdir(input_dir):\n",
    "        image_path = os.path.join(input_dir, j)\n",
    "        # load the binary mask and get its contours\n",
    "        mask = cv2.imread(image_path, cv2.IMREAD_GRAYSCALE)\n",
    "        _, mask = cv2.threshold(mask, 1, 255, cv2.THRESH_BINARY)\n",
    "\n",
    "        H, W = mask.shape\n",
    "        contours, hierarchy = cv2.findContours(mask, cv2.RETR_EXTERNAL, cv2.CHAIN_APPROX_SIMPLE)\n",
    "\n",
    "        # convert the contours to polygons\n",
    "        polygons = []\n",
    "        for cnt in contours:\n",
    "            if cv2.contourArea(cnt) > 10:\n",
    "                polygon = []\n",
    "                for point in cnt:\n",
    "                    x, y = point[0]\n",
    "                    polygon.append(x / W)\n",
    "                    polygon.append(y / H)\n",
    "                polygons.append(polygon)\n",
    "\n",
    "        # print the polygons\n",
    "        with open('{}.txt'.format(os.path.join(output_dir, j)[:-4]), 'w') as f:\n",
    "            for polygon in polygons:\n",
    "                for p_, p in enumerate(polygon):\n",
    "                    if p_ == len(polygon) - 1:\n",
    "                        f.write('{}\\n'.format(p))\n",
    "                    elif p_ == 0:\n",
    "                        f.write('0 {} '.format(p))\n",
    "                    else:\n",
    "                        f.write('{} '.format(p))\n",
    "\n",
    "            f.close()"
   ]
  },
  {
   "cell_type": "code",
   "execution_count": 33,
   "metadata": {},
   "outputs": [],
   "source": [
    "label_dict = parse_labelmap('tmp/labelmap.txt')\n",
    "\n",
    "for j in os.listdir('tmp/SegmentationObject/'):\n",
    "    image_path = os.path.join('tmp/SegmentationObject/', j)\n",
    "    color_mask = cv2.imread(image_path, cv2.IMREAD_COLOR)\n",
    "    gray_mask = cv2.imread(image_path, cv2.IMREAD_GRAYSCALE)\n",
    "    _, binary_mask = cv2.threshold(gray_mask, 1, 255, cv2.THRESH_BINARY)\n",
    "\n",
    "    H, W = binary_mask.shape\n",
    "    contours, hierarchy = cv2.findContours(binary_mask, cv2.RETR_EXTERNAL, cv2.CHAIN_APPROX_SIMPLE)\n",
    "\n",
    "    # write the polygons with class ID\n",
    "    with open('{}.txt'.format(os.path.join('tmp/labels', j)[:-4]), 'w') as f:\n",
    "        for cnt in contours:\n",
    "            if cv2.contourArea(cnt) > 10:\n",
    "                x,y = cnt[0][0]\n",
    "                color = tuple(color_mask[y, x].tolist())  #TODO: [x,y]??\n",
    "                color_str = ','.join(map(str,color))\n",
    "                class_id = label_dict.get(color_str, 0)\n",
    "\n",
    "                polygon = []\n",
    "                for point in cnt:\n",
    "                    x, y = point[0]\n",
    "                    polygon.append(x/W)\n",
    "                    polygon.append(y/H)\n",
    "\n",
    "                f.write('{}'.format(class_id))\n",
    "                for p_, p in enumerate(polygon):\n",
    "                    if p_ == len(polygon) - 1:\n",
    "                        f.write(' {}\\n'.format(p))\n",
    "                    elif p_ == 0:\n",
    "                        f.write('class_id {}'.format(p))\n",
    "                    else:\n",
    "                        f.write('{} '.format(p))\n",
    "        \n",
    "        f.close()\n",
    "                "
   ]
  },
  {
   "cell_type": "code",
   "execution_count": null,
   "metadata": {},
   "outputs": [],
   "source": []
  }
 ],
 "metadata": {
  "kernelspec": {
   "display_name": "Python 3",
   "language": "python",
   "name": "python3"
  },
  "language_info": {
   "codemirror_mode": {
    "name": "ipython",
    "version": 3
   },
   "file_extension": ".py",
   "mimetype": "text/x-python",
   "name": "python",
   "nbconvert_exporter": "python",
   "pygments_lexer": "ipython3",
   "version": "3.10.12"
  }
 },
 "nbformat": 4,
 "nbformat_minor": 2
}
