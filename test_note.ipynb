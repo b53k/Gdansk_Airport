{
 "cells": [
  {
   "cell_type": "markdown",
   "metadata": {},
   "source": [
    "## To DO:\n",
    "\n",
    "Two ways --\n",
    "* Get Data - Image Frames and cooresponding Time-stamps\n",
    "* Annotate for Segmentation\n",
    "* Convert Binary Segmentation to YOLO format using mask_to_YOLO.py\n",
    "* Use ultralytics YOLOv8 to fine-tune the model on our custom data-set and track objects\n",
    "* Get corresponding x,y coordinates with time-stamps\n",
    "\n",
    "or\n",
    "* Do all of the above manually using CVAT, use polygon tracker this time. \n",
    "* Export in COCO format\n",
    "* and so on"
   ]
  }
 ],
 "metadata": {
  "kernelspec": {
   "display_name": "Python 3",
   "language": "python",
   "name": "python3"
  },
  "language_info": {
   "codemirror_mode": {
    "name": "ipython",
    "version": 3
   },
   "file_extension": ".py",
   "mimetype": "text/x-python",
   "name": "python",
   "nbconvert_exporter": "python",
   "pygments_lexer": "ipython3",
   "version": "3.10.12"
  }
 },
 "nbformat": 4,
 "nbformat_minor": 2
}
