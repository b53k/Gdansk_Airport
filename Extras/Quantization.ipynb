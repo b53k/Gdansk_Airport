{
 "cells": [
  {
   "cell_type": "code",
   "execution_count": 1,
   "metadata": {},
   "outputs": [
    {
     "data": {
      "text/plain": [
       "\"for result in model.track(source = link, show = True, \\n                                conf = 0.7, save = False, \\n                                line_width = 4, stream = True, \\n                                persist = True, save_txt = False,\\n                                save_frames = False, show_labels = True, show_boxes = True, tracker = 'bytetrack.yaml'):\\n    pass\""
      ]
     },
     "execution_count": 1,
     "metadata": {},
     "output_type": "execute_result"
    }
   ],
   "source": [
    "from ultralytics import YOLO\n",
    "import torch\n",
    "\n",
    "link = 'Data/Videos/6/Gdansk_Live_Stream_6.mp4'\n",
    "#link = 'Data/08_11_2023/Frame_0.jpg'\n",
    "#link = 'https://62abe29de64ab.streamlock.net:4444/EPGD/pps3.stream/chunklist_w2096451211.m3u8'\n",
    "\n",
    "\n",
    "# clear cache\n",
    "torch.cuda.empty_cache()\n",
    "\n",
    "# Load the trained model (last epoch or best epoch)\n",
    "model = YOLO('weights/1024.pt')\n",
    "\n",
    "'''for result in model.track(source = link, show = True, \n",
    "                                conf = 0.7, save = False, \n",
    "                                line_width = 4, stream = True, \n",
    "                                persist = True, save_txt = False,\n",
    "                                save_frames = False, show_labels = True, show_boxes = True, tracker = 'bytetrack.yaml'):\n",
    "    pass'''"
   ]
  },
  {
   "cell_type": "code",
   "execution_count": 4,
   "metadata": {},
   "outputs": [
    {
     "name": "stdout",
     "output_type": "stream",
     "text": [
      "\n",
      "image 1/1 /home/bipin/Documents/Airport Work/Test_Images/b.jpg: 576x1024 3 Aircrafts, 5 Airport_Tractors, 4 Baggage_Trolleys, 2 Fuel_Tucks, 117.0ms\n",
      "Speed: 8.1ms preprocess, 117.0ms inference, 5.1ms postprocess per image at shape (1, 3, 576, 1024)\n",
      "Results saved to \u001b[1mruns/segment/predict2\u001b[0m\n"
     ]
    }
   ],
   "source": [
    "link = 'Data/08_11_2023/Frame_6.jpg'\n",
    "link = 'Test_Images/b.jpg'\n",
    "for result in model.predict(source = link, show = True, conf = 0.7, line_width = 4, save_frames = True, save = True):\n",
    "    pass"
   ]
  },
  {
   "cell_type": "code",
   "execution_count": null,
   "metadata": {},
   "outputs": [],
   "source": []
  }
 ],
 "metadata": {
  "kernelspec": {
   "display_name": "Python 3",
   "language": "python",
   "name": "python3"
  },
  "language_info": {
   "codemirror_mode": {
    "name": "ipython",
    "version": 3
   },
   "file_extension": ".py",
   "mimetype": "text/x-python",
   "name": "python",
   "nbconvert_exporter": "python",
   "pygments_lexer": "ipython3",
   "version": "3.10.12"
  }
 },
 "nbformat": 4,
 "nbformat_minor": 2
}
